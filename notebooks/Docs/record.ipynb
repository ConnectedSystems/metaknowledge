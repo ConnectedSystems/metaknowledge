{
 "cells": [
  {
   "cell_type": "markdown",
   "metadata": {},
   "source": [
    "# The Record Class"
   ]
  },
  {
   "cell_type": "markdown",
   "metadata": {},
   "source": [
    "## Overview\n",
    "\n",
    "The `isilib.Record` class is a way to manage the meta-data provided by WOS for a single pice of literature, e.g. a paper, book or conference. These records are obtained as plain text flat databases which the `isilib.Record` class can read and analyze to extra useful information from such as a list of the subject tags or the WOS number of the record. They can also be collected into larger groups in the `isilib.RecordCollection` class and analysis of their relationships run."
   ]
  },
  {
   "cell_type": "markdown",
   "metadata": {},
   "source": [
    "## WOS records\n",
    "\n",
    "WOS provides records in a plain text form from the web interface, or their API. To get them from the web interface in groups of up to 500 by select the _\"Other File Formats\"_ and then _\"Plain Text\"_ options when you have done a search. The records can then be downloaded as a single file with an entry for each record. Each file [^footnote] (a utf-8 with BOM encoding) starts with the WOS header [1]\n",
    "\n",
    "[^footnote]: This is a test... \n",
    "\n",
    "      FN Thomson Reuters Web of Science™\n",
    "\n",
    "      VR 1.0\n",
    "\n",
    "Then a record is a series of WOS tags, usually starting with the 'PT' tag, terminated by a line with only 'ER'.\n",
    "\n",
    "A WOS tag is how the fields in the record files are identified each is two characters long and composed of uppercase letters and number. There is no published complete list, nor is there a definition provided for most tags, the best known official list is [here](http://images.webofknowledge.com/WOK46/help/WOS/h_fieldtags.html). So tags in this library have been compiled by hand, as have their meanings. Tags that have been compiled are in the `isilib.tagFuncs` module. Examples of tags are 'CR' for cited references, 'J9' for the 29-Character Source Abbreviation and 'OI' for the orcID, most tags are not present in all papers.\n",
    "\n",
    "After the header line starting with a tag followed by a space then the value of that tag occurs, e.g _\"PT J\"_. Bellow this for each tag applicable to the record a tag and values pair occurs. If the value occupies more than one line, the line after the first start with 3 spaces and then the values for that line. New lines can be occur to distinguish entries in a value for instance the 'CR' tag gives each reference a line. Or they can occur because the value of tag contains newlines, e.g. the 'AB' (abstract). Also they can occur for no reason.\n",
    "\n",
    "The last line of a record is the end of record indicator 'ER'. When al these are put together the result is:"
   ]
  },
  {
   "cell_type": "markdown",
   "metadata": {},
   "source": [
    "      FN Thomson Reuters Web of Science™\n",
    "\n",
    "      VR 1.0\n",
    "\n",
    "      PT J\n",
    "\n",
    "      AU Marghetis, T\n",
    "\n",
    "      AF Marghetis, Tyler\n",
    "\n",
    "      TI The Motion Behind the Symbols\n",
    "\n",
    "      SO TOPICS IN COGNITIVE SCIENCE\n",
    "\n",
    "      LA English\n",
    "\n",
    "      DT Article\n",
    "\n",
    "      DE Mathematical practice; Metaphor; Fictive motion; Gesture; Cauchy;\n",
    "\n",
    "            Calculus; Conceptualization\n",
    "\n",
    "      ID REPRESENTATIONS; GESTURE; REAL; TIME\n",
    "\n",
    "      AB The canonical history of mathematics suggests that the late 19th-century arithmetization of calculus marked a shift away from spatial-dynamic intuitions, grounding concepts in static, rigorous definitions. Instead, we argue that mathematicians, both historically and currently, rely on dynamic conceptualizations of mathematical concepts like continuity, limits, and functions. In this article, we present two studies of the role of dynamic conceptual systems in expert proof. The first is an analysis of co-speech gesture produced by mathematics graduate students while proving a theorem, which reveals a reliance on dynamic conceptual resources. The second is a cognitive-historical case study of an incident in 19th-century mathematics that suggests a functional role for such dynamism in the reasoning of the renowned mathematician Augustin Cauchy. Taken together, these two studies indicate that essential concepts in calculus that have been defined entirely in abstract, static terms are nevertheless conceptualized dynamically, in both contemporary and historical practice.\n",
    "\n",
    "      C1 [Marghetis, Tyler; Nunez, Rafael] Univ Calif San Diego, Dept Cognit Sci, La Jolla, CA 92093 USA.\n",
    "\n",
    "      RP Marghetis, T (reprint author), Univ Calif San Diego, Dept Cognit Sci, La Jolla, CA 92093 USA.\n",
    "\n",
    "      EM tmarghet@cogsci.ucsd.edu\n",
    "\n",
    "      CR Alibali MW, 1999, PSYCHOL SCI, V10, P327, DOI 10.1111/1467-9280.00163\n",
    "\n",
    "         Bell E. T., 1940, DEV MATH\n",
    "\n",
    "         Byers W., 2007, MATH THINK USING AMB\n",
    "\n",
    "      NR 45\n",
    "\n",
    "      TC 4\n",
    "\n",
    "      Z9 4\n",
    "\n",
    "      PU WILEY-BLACKWELL\n",
    "\n",
    "      PI HOBOKEN\n",
    "\n",
    "      PA 111 RIVER ST, HOBOKEN 07030-5774, NJ USA\n",
    "\n",
    "      SN 1756-8757\n",
    "\n",
    "      J9 TOP COGN SCI\n",
    "\n",
    "      JI Top. Cogn. Sci.\n",
    "\n",
    "      PD APR\n",
    "\n",
    "      PY 2013\n",
    "\n",
    "      VL 5\n",
    "\n",
    "      IS 2\n",
    "\n",
    "      BP 299\n",
    "\n",
    "      EP 316\n",
    "\n",
    "      DI 10.1111/tops.12013\n",
    "\n",
    "      PG 18\n",
    "\n",
    "      WC Psychology, Experimental\n",
    "\n",
    "      SC Psychology\n",
    "\n",
    "      GA 126NA\n",
    "\n",
    "      UT WOS:000317623000007\n",
    "\n",
    "      PM 23460466\n",
    "\n",
    "      ER"
   ]
  },
  {
   "cell_type": "markdown",
   "metadata": {},
   "source": [
    "      EF"
   ]
  },
  {
   "cell_type": "markdown",
   "metadata": {},
   "source": [
    "[1]\n"
   ]
  },
  {
   "cell_type": "code",
   "execution_count": null,
   "metadata": {
    "collapsed": true
   },
   "outputs": [],
   "source": []
  }
 ],
 "metadata": {
  "kernelspec": {
   "display_name": "Python 3",
   "language": "python",
   "name": "python3"
  },
  "language_info": {
   "codemirror_mode": {
    "name": "ipython",
    "version": 3
   },
   "file_extension": ".py",
   "mimetype": "text/x-python",
   "name": "python",
   "nbconvert_exporter": "python",
   "pygments_lexer": "ipython3",
   "version": "3.4.3"
  }
 },
 "nbformat": 4,
 "nbformat_minor": 0
}
