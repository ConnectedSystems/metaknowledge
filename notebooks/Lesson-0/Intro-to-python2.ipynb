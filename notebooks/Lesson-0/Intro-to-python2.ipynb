{
 "cells": [
  {
   "cell_type": "markdown",
   "metadata": {},
   "source": [
    "#A short Introduction to Python Part 2"
   ]
  },
  {
   "cell_type": "markdown",
   "metadata": {},
   "source": [
    "##Functions"
   ]
  },
  {
   "cell_type": "markdown",
   "metadata": {},
   "source": [
    "In the last lesson we looked at creating variables and saw how to create them from nothing\n"
   ]
  },
  {
   "cell_type": "code",
   "execution_count": 1,
   "metadata": {
    "collapsed": false
   },
   "outputs": [],
   "source": [
    "x=1"
   ]
  },
  {
   "cell_type": "markdown",
   "metadata": {},
   "source": [
    "or from other variables\n"
   ]
  },
  {
   "cell_type": "code",
   "execution_count": 2,
   "metadata": {
    "collapsed": false
   },
   "outputs": [],
   "source": [
    "y=x"
   ]
  },
  {
   "cell_type": "code",
   "execution_count": 3,
   "metadata": {
    "collapsed": false
   },
   "outputs": [],
   "source": [
    "print(x)\n",
    "print(y)"
   ]
  },
  {
   "cell_type": "markdown",
   "metadata": {},
   "source": [
    "You can do the same with functions, but first we need to define what a functions is. A function is an object that contains some computation they do this computation on their inputs of which they can have any number including 0 and produce a single output. Mathematical functions are what Python's functions are based on and you can think of them like those, for example the function `min()` takes in any number of objects an returns the smallest, for numbers smallest is the smallest number for strings it is the first alphabetically. The inputs are all the objects inside the brackets and have commas between them.\n"
   ]
  },
  {
   "cell_type": "code",
   "execution_count": 4,
   "metadata": {
    "collapsed": false
   },
   "outputs": [],
   "source": [
    "type(min)"
   ]
  },
  {
   "cell_type": "code",
   "execution_count": 5,
   "metadata": {
    "collapsed": false
   },
   "outputs": [],
   "source": [
    "min(1,2,3,4)"
   ]
  },
  {
   "cell_type": "code",
   "execution_count": 6,
   "metadata": {
    "collapsed": false
   },
   "outputs": [],
   "source": [
    "min('a','aa','b')"
   ]
  },
  {
   "cell_type": "markdown",
   "metadata": {},
   "source": [
    "We can of course assign a variable to `min()` since `min()` is an object.\n"
   ]
  },
  {
   "cell_type": "code",
   "execution_count": 5,
   "metadata": {
    "collapsed": false
   },
   "outputs": [],
   "source": [
    "OurMinVariable = min\n",
    "type(OurMinVariable)"
   ]
  },
  {
   "cell_type": "code",
   "execution_count": 6,
   "metadata": {
    "collapsed": false
   },
   "outputs": [],
   "source": [
    "OurMinVariable(-1,-2,-3)"
   ]
  },
  {
   "cell_type": "markdown",
   "metadata": {},
   "source": [
    "Some functions do not have any inputs and some do not have an output that is worth recording, for example `print()`. What do you think the output of print is?\n"
   ]
  },
  {
   "cell_type": "code",
   "execution_count": 7,
   "metadata": {
    "collapsed": false
   },
   "outputs": [],
   "source": [
    "printsOutput = print(\"Printing\")"
   ]
  },
  {
   "cell_type": "code",
   "execution_count": 8,
   "metadata": {
    "collapsed": false
   },
   "outputs": [],
   "source": [
    "print(printsOutput)\n",
    "print(type(printsOutput))"
   ]
  },
  {
   "cell_type": "markdown",
   "metadata": {},
   "source": [
    "`printsOutput` has the type `NoneType`. `NoneType` is Python's way of indicting that there is nothing there, if you create your own function and do not define what it outputs it will produce `None` as well. This raised a question though `print()` does output something, it prints things on the screen. Printing on a screen is what is called a side effect, the effect does not appear in the same place as the output. Mathematical functions do not have side effects they are something note even all programing languages have.\n",
    "\n",
    "We also can define our own functions just like we can create our one variables. To do that first we write `def` then the name of our function then in brackets with commas between them the names of all our variables followed by colon\n",
    "\n",
    "`def ourFunction(variableOne, variableTwo):`\n",
    "\n",
    "below that we write them computation indented by some number of spaces or tabs\n",
    "\n",
    "`    returnVariable = variableOne + variableTwo`\n",
    "\n",
    "Finally if we want to return something we write `return` then a space then what we wish to return\n",
    "\n",
    "`    return returnVariable`\n",
    "\n",
    "Altogether this gives us\n"
   ]
  },
  {
   "cell_type": "code",
   "execution_count": 24,
   "metadata": {
    "collapsed": false
   },
   "outputs": [
    {
     "data": {
      "text/plain": [
       "30"
      ]
     },
     "execution_count": 24,
     "metadata": {},
     "output_type": "execute_result"
    }
   ],
   "source": [
    "def ourFunction(variableOne, variableTwo):\n",
    "    returnVariable = variableOne + variableTwo\n",
    "    return returnVariable\n",
    "ourFunction(10, 20)"
   ]
  },
  {
   "cell_type": "code",
   "execution_count": null,
   "metadata": {
    "collapsed": true
   },
   "outputs": [],
   "source": []
  }
 ],
 "metadata": {
  "kernelspec": {
   "display_name": "Python 3",
   "language": "python",
   "name": "python3"
  },
  "language_info": {
   "codemirror_mode": {
    "name": "ipython",
    "version": 3
   },
   "file_extension": ".py",
   "mimetype": "text/x-python",
   "name": "python",
   "nbconvert_exporter": "python",
   "pygments_lexer": "ipython3",
   "version": "3.4.3"
  }
 },
 "nbformat": 4,
 "nbformat_minor": 0
}
