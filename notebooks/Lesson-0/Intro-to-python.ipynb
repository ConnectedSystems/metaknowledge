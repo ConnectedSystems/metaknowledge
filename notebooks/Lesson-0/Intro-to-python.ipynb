{
 "cells": [
    {
    "cell_type": "markdown",
    "metadata": {},
    "source": [
     "#A short Introduction to python\n",
     "\n",
     "##Notebooks\n",
     "I front of you right now is a python notebook, it contains two different types of text. The first is plain text, which is what you are reading, it does not do anything besides be displayed. The second is code, the next cell is one containing python code, the code is run on the computer and can have many different effects such as doing math, creating images or displaying text. The code is run by something called an interpreter. The interpreter, translates code, that humnas can read into machine langauge that the computer can understand.\n",
     ""
    ]
    }
,{
    "cell_type": "code",
    "execution_count": 1,
    "metadata": {
     "collapsed": false
    },
    "outputs": [],
    "source": [
     "#This cell contains python code, it is printing the result of adding two numbers\n",
     "print(2 + 3)"
    ]
   }
,{
    "cell_type": "markdown",
    "metadata": {},
    "source": [
     "That was a simple example of code, the first line was what is called a comment, in python comments are indicated with  the number sign #, they make the rest of line be ignore by the interpreter. The second line has two different functions, the first is `print()`, which takes the end result of what is within the brackets and displays it, the second is addition. Addition is a math operation that does exactly what you expect it adds numbers, it can also add other things but we will get into that later. Code cells have <font color=darkblue>In [1]:</font> next to them and their outputs written directly below.\n",
     "\n",
     "Try changing the numbers or the symbol and rerunning the cell. The symbols for subtraction, multiplication and division are `-`, `*`, and `/` respectively. You can edit a cell by clinking it and run it by either pressing shift+enter or by pressing the run button at the top of the window. If you see an error (e.g. <font color=red>SyntaxError</font>) when you run, it means the interpreter could not understand what you wanted."
    ]
    }
,{
    "cell_type": "markdown",
    "metadata": {},
    "source": [
     "Now that you know how to do some math, lets look at words. A sequence of of character is called a string, strings are how computers deal with text as writing can be represented as a sequence of characters , spaces and punctuation. In python strings are created by surrounding the characters in using `'` or double `\"` quotation marks, e.g. `\"This is a string\"`. You can print string just like you can print numbers.\n",
     ""
    ]
    }
,{
    "cell_type": "code",
    "execution_count": 2,
    "metadata": {
     "collapsed": false
    },
    "outputs": [],
    "source": [
     "print(\"This is a string with double quotes\")\n",
     "print('This is a string with single quotes')"
    ]
   }
,{
    "cell_type": "markdown",
    "metadata": {},
    "source": [
     "As you can seePython automatically puts each newly printed string on a newline. Try playing with printing strings, see what happens if you add them together, or if you do not include a quotation mark."
    ]
    }
,{
    "cell_type": "markdown",
    "metadata": {},
    "source": [
     "##Types"
    ]
    }
,{
    "cell_type": "markdown",
    "metadata": {},
    "source": [
     "Strings and numbers in Python are both what are called objects. In fact everything in Python is an object, `print()` is an object as is `'this object'`, but not all objects are the same they are categorized into different types. String (`str`) is a type of object, meaning they have different attributes than functions (`builtin_function_or_method`) like `print()`. Numbers are actually a few different types, the two you will encounter are integers (`int`) and floating point numbers (`float`). Ints are integers like those from math, they are not fractions and can be negative or positive. Floats are like the real numbers from math, they can be negative or positive and can be any value fraction or whole. Unfortunately floats are not perfectly precise and small rounding errors occur when they are used for math, so they can be tricky to use and generally ints are preferable.\n",
     "\n",
     "The function `type()` will tell you the type of an object, here it is a on a few different ones.\n",
     ""
    ]
    }
,{
    "cell_type": "code",
    "execution_count": 3,
    "metadata": {
     "collapsed": false
    },
    "outputs": [],
    "source": [
     "type('string' + \"another string\")"
    ]
   }
,{
    "cell_type": "code",
    "execution_count": 4,
    "metadata": {
     "collapsed": false
    },
    "outputs": [],
    "source": [
     "type(2)"
    ]
   }
,{
    "cell_type": "code",
    "execution_count": 5,
    "metadata": {
     "collapsed": false
    },
    "outputs": [],
    "source": [
     "type(print)"
    ]
   }
,{
    "cell_type": "markdown",
    "metadata": {},
    "source": [
     "In the above code there are no `print()` statements an in fact if that was run in an interactive way like this there would not be anything outputted. The notebook tells you that by putting <font color=red>Out[4]:</font> next to the output."
    ]
    }
,{
    "cell_type": "markdown",
    "metadata": {},
    "source": [
     "##Exceptions\n",
     "\n",
     "Types also determine what functions work with which objects. In Python adding an int to a string does not make sense and creates an error called exceptions in python.\n",
     ""
    ]
    }
,{
    "cell_type": "code",
    "execution_count": 6,
    "metadata": {
     "collapsed": false
    },
    "outputs": [],
    "source": [
     "1 + '1' #Notice the quotation marks"
    ]
   }
,{
    "cell_type": "markdown",
    "metadata": {},
    "source": [
     "The above cell block produces a lot of text because the interpreter is telling you everything it know about the exception. Usually though the last line is the most important in this case it tells you exactly what went wrong: <font color=red> TypeError: unsupported operand type(s) for +: 'int' and 'str'</font> i.e. addition is not supported between integers (`int`) and strings (`str`). When ever people  writing code they make mistakes and exceptions are a way of handling them. They occur to prevent anything bad from happening and are a very useful for finding bugs."
    ]
    }
,{
    "cell_type": "markdown",
    "metadata": {},
    "source": [
     "##Variables"
    ]
    }
,{
    "cell_type": "markdown",
    "metadata": {},
    "source": [
     "Instead of displaying the results of an operation immediately it can be stored in a variable. Variables are names given by the programmer to objects. This assignment is done with the single equals symbol `=`. Python has something called dynamic typing which means that you can assign objects to variables however you want.\n",
     ""
    ]
    }
,{
    "cell_type": "code",
    "execution_count": 6,
    "metadata": {
     "collapsed": false
    },
    "outputs": [],
    "source": [
     "x = 2\n",
     "y = 'This is a variable'\n",
     "longVariableName = x + 2\n",
     "typeOfX = type(x)"
    ]
   }
,{
    "cell_type": "markdown",
    "metadata": {},
    "source": [
     "Notice how there are no outputs from this cell, all the objects have been assigned variables there is nothing to display. Instead they are stored and we can print them later or use them for something else.\n",
     ""
    ]
    }
,{
    "cell_type": "code",
    "execution_count": 7,
    "metadata": {
     "collapsed": false
    },
    "outputs": [],
    "source": [
     "print(typeOfX)\n",
     "print(longVariableName)\n",
     "xPlus10 = x + 10\n",
     "print(xPlus10)"
    ]
   }
],
"metadata": {
"kernelspec": {
 "display_name": "Python 3",
 "language": "python",
 "name": "python3"
},
"language_info": {
 "codemirror_mode": {
  "name": "ipython",
  "version": 3
 },
 "file_extension": ".py",
 "mimetype": "text/x-python",
 "name": "python",
 "nbconvert_exporter": "python",
 "pygments_lexer": "ipython3",
 "version": "3.4.3"
}
},
"nbformat": 4,
"nbformat_minor": 0
}