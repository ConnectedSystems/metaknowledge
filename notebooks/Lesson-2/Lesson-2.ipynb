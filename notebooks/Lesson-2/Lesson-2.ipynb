{
 "cells": [
  {
   "cell_type": "markdown",
   "metadata": {
    "collapsed": true
   },
   "source": [
    "#Lesson 2 - Citation and Cocitation"
   ]
  },
  {
   "cell_type": "markdown",
   "metadata": {},
   "source": [
    "Last lesson we looked at creating a network of titles and citations. That type of network is called a two-mode network as it has to different types of node the titles and the citations. This segeregation of nodes means that many of the techiques used in network analysis do not work on them, this is beacuse they are ony uable on one-mode networks.\n",
    "\n",
    "One-mode networks contain only one kind of node and are usually much easier to study, here we will be looking at two different ones citation networks and cocitation networks. First though we need to import some things."
   ]
  },
  {
   "cell_type": "code",
   "execution_count": 1,
   "metadata": {
    "collapsed": true
   },
   "outputs": [],
   "source": [
    "import isilib #This loads isilib\n",
    "import networkx as nx #Networkx is what we use to contain the networks\n",
    "import matplotlib.pyplot as plt #We will be using this to create images we will also make them inline\n",
    "%matplotlib inline"
   ]
  },
  {
   "cell_type": "markdown",
   "metadata": {},
   "source": [
    "Now we have to load the data. For this lesson I have put the data in 3 files located in this directory. You can load them one by one and add them together or you can load the whole directory like this:"
   ]
  },
  {
   "cell_type": "code",
   "execution_count": 2,
   "metadata": {
    "collapsed": false
   },
   "outputs": [
    {
     "data": {
      "text/plain": [
       "583"
      ]
     },
     "execution_count": 2,
     "metadata": {},
     "output_type": "execute_result"
    }
   ],
   "source": [
    "RC = isilib.RecordCollection('.')\n",
    "len(RC)"
   ]
  },
  {
   "cell_type": "markdown",
   "metadata": {},
   "source": [
    "There we go 583 records loaded, thats a bit more than last time but we should be fine"
   ]
  },
  {
   "cell_type": "markdown",
   "metadata": {},
   "source": [
    "The first type of network we will look at is the cocitation network, the network of citations that occur with each other. It is in fact a modifaction of the network that we saw last time. If instead of creating nodes for titles you connected all the nodes that have edges to that title with each other, i.e. remove the titles but leave their edges.\n",
    "\n",
    "Lets make one"
   ]
  },
  {
   "cell_type": "code",
   "execution_count": null,
   "metadata": {
    "collapsed": false
   },
   "outputs": [],
   "source": [
    "Gcocite = RC.coCiteNetwork()"
   ]
  },
  {
   "cell_type": "markdown",
   "metadata": {},
   "source": [
    "This network is too big for the notebook to display, so instead what we will do is write it to a file"
   ]
  },
  {
   "cell_type": "code",
   "execution_count": null,
   "metadata": {
    "collapsed": true
   },
   "outputs": [],
   "source": [
    "isilib.write_graph(Gcocite, \"Lesson-2-coCite\", overwrite = True)\n",
    "#overwrite = True is so that you can run this code again, please do not use overwrite = True unless you know what you are doing"
   ]
  },
  {
   "cell_type": "markdown",
   "metadata": {
    "collapsed": true
   },
   "source": [
    "This creates two files an edge list and a node attribute list. You can open the edge list in Gephi or Visone to visualize it, although if you are doing that you may want to use nx.write_graphml() which is much slower but will produce a graphml file that contains all that information as a single file"
   ]
  },
  {
   "cell_type": "markdown",
   "metadata": {},
   "source": [
    "#Add Picture Here"
   ]
  },
  {
   "cell_type": "markdown",
   "metadata": {
    "collapsed": true
   },
   "source": [
    "The other type of one-mode network often used in network analysis is the citation network. In these edges are created between papers and the papers they cite. This can be though of as the title-citation network from lesson 1 but with the titles being replaced with what a citation of them would be. These can be obatained as follows:"
   ]
  },
  {
   "cell_type": "code",
   "execution_count": null,
   "metadata": {
    "collapsed": true
   },
   "outputs": [],
   "source": [
    "Gcite = RC.citationNetwork()"
   ]
  },
  {
   "cell_type": "markdown",
   "metadata": {},
   "source": [
    "Again this is too big to display so we have to write it to file"
   ]
  },
  {
   "cell_type": "markdown",
   "metadata": {},
   "source": [
    "#Add Picture Here"
   ]
  },
  {
   "cell_type": "code",
   "execution_count": null,
   "metadata": {
    "collapsed": true
   },
   "outputs": [],
   "source": []
  },
  {
   "cell_type": "code",
   "execution_count": null,
   "metadata": {
    "collapsed": true
   },
   "outputs": [],
   "source": []
  }
 ],
 "metadata": {
  "kernelspec": {
   "display_name": "Python 3",
   "language": "python",
   "name": "python3"
  },
  "language_info": {
   "codemirror_mode": {
    "name": "ipython",
    "version": 3
   },
   "file_extension": ".py",
   "mimetype": "text/x-python",
   "name": "python",
   "nbconvert_exporter": "python",
   "pygments_lexer": "ipython3",
   "version": "3.4.0"
  }
 },
 "nbformat": 4,
 "nbformat_minor": 0
}
