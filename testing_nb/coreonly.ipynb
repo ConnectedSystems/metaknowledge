{
 "cells": [
  {
   "cell_type": "code",
   "execution_count": 1,
   "metadata": {
    "collapsed": false
   },
   "outputs": [],
   "source": [
    "import metaknowledge as mk\n",
    "import networkx as nx\n",
    "from metaknowledge.recordCollection import *"
   ]
  },
  {
   "cell_type": "code",
   "execution_count": 2,
   "metadata": {
    "collapsed": true
   },
   "outputs": [],
   "source": [
    "RC = mk.RecordCollection('scopus.csv')"
   ]
  },
  {
   "cell_type": "code",
   "execution_count": 3,
   "metadata": {
    "collapsed": true
   },
   "outputs": [],
   "source": [
    "self = RC"
   ]
  },
  {
   "cell_type": "code",
   "execution_count": 4,
   "metadata": {
    "collapsed": false
   },
   "outputs": [],
   "source": [
    "g1 = RC.networkCoCitation()\n",
    "g2 = RC.networkCoCitation(coreOnly=True)"
   ]
  },
  {
   "cell_type": "code",
   "execution_count": 5,
   "metadata": {
    "collapsed": false
   },
   "outputs": [],
   "source": [
    "coreCitesDict = {R.createCitation() : R for R in self}\n",
    "coreCites = coreCitesDict.keys()"
   ]
  },
  {
   "cell_type": "code",
   "execution_count": 6,
   "metadata": {
    "collapsed": false
   },
   "outputs": [
    {
     "name": "stdout",
     "output_type": "stream",
     "text": [
      "Name: \n",
      "Type: Graph\n",
      "Number of nodes: 75292\n",
      "Number of edges: 2223838\n",
      "Average degree:  59.0724\n",
      "Name: \n",
      "Type: Graph\n",
      "Number of nodes: 8\n",
      "Number of edges: 11\n",
      "Average degree:   2.7500\n"
     ]
    }
   ],
   "source": [
    "print(nx.info(g1))\n",
    "print(nx.info(g2))"
   ]
  },
  {
   "cell_type": "code",
   "execution_count": 7,
   "metadata": {
    "collapsed": false
   },
   "outputs": [
    {
     "data": {
      "text/plain": [
       "<metaknowledge.ScopusRecord object EID:2-s2.0-0031184904>"
      ]
     },
     "execution_count": 7,
     "metadata": {},
     "output_type": "execute_result"
    }
   ],
   "source": [
    "R = self.peek()\n",
    "R"
   ]
  },
  {
   "cell_type": "code",
   "execution_count": 8,
   "metadata": {
    "collapsed": true
   },
   "outputs": [],
   "source": [
    "Cites = R.get('citations')"
   ]
  },
  {
   "cell_type": "code",
   "execution_count": 9,
   "metadata": {
    "collapsed": false
   },
   "outputs": [
    {
     "data": {
      "text/plain": [
       "<metaknowledge.Citation object Hantrais L., The Gender of Paid and Unpaid Work Time: A European Problem (1997) Time & Society, 6, PP. 131>"
      ]
     },
     "execution_count": 9,
     "metadata": {},
     "output_type": "execute_result"
    }
   ],
   "source": [
    "R.createCitation()"
   ]
  },
  {
   "cell_type": "code",
   "execution_count": 10,
   "metadata": {
    "collapsed": false
   },
   "outputs": [
    {
     "data": {
      "text/plain": [
       "[<metaknowledge.Citation object Hantrais L., The Gender of Paid and Unpaid Work Time: A European Problem (1997) Time & Society, 6, PP. 131>,\n",
       " <metaknowledge.Citation object Heinonen J., Situated lifestyles: I. How lifestyles change along with the level of urbanization and what the greenhouse gas implications are - A study of Finland (2013) Environmental Research Letters, 8, >,\n",
       " <metaknowledge.Citation object Elliott A., Terminal experimentation: The transformation of experiences, events and escapes at global airports (2015) Environment and Planning D: Society and Space, 33, PP. 1063>,\n",
       " <metaknowledge.Citation object Wardman D., HIV/AIDS: testing and risk behaviors among British Columbia's rural Aboriginal population. (2006) International journal of circumpolar health, 65, PP. 313>,\n",
       " <metaknowledge.Citation object Gangrade S., Coast-to-coast comparison of time use and activity patterns (2000) Transportation Research Record, PP. 34>,\n",
       " <metaknowledge.Citation object Marsal-Llacuna M.-L., Modeling citizens’ urban time-use using adaptive hypermedia surveys to obtain an urban planning, citizen-centric, methodological reinvention (2016) Time and Society, 25, PP. 272>,\n",
       " <metaknowledge.Citation object Barnet-Verzat C., Spending time together: The impact of children on couples' leisure synchronization (2011) Review of Economics of the Household, 9, PP. 465>,\n",
       " <metaknowledge.Citation object Williams J.R., A Measure Whose Time has Come: Formalizing Time Poverty (2016) Social Indicators Research, 128, PP. 265>,\n",
       " <metaknowledge.Citation object Brougham R., Speech-language pathology treatment time during inpatient spinal cord injury rehabilitation: The SCIRehab project (2011) Journal of Spinal Cord Medicine, 34, PP. 186>,\n",
       " <metaknowledge.Citation object Jarosz E., Class and eating: Family meals in Britain (2017) Appetite, 116, PP. 527>]"
      ]
     },
     "execution_count": 10,
     "metadata": {},
     "output_type": "execute_result"
    }
   ],
   "source": [
    "list(coreCites)[:10]"
   ]
  },
  {
   "cell_type": "code",
   "execution_count": 11,
   "metadata": {
    "collapsed": false
   },
   "outputs": [
    {
     "data": {
      "text/plain": [
       "[]"
      ]
     },
     "execution_count": 11,
     "metadata": {},
     "output_type": "execute_result"
    }
   ],
   "source": [
    "filterCites(Cites, 'full', False, False, None, coreCites)"
   ]
  },
  {
   "cell_type": "code",
   "execution_count": 12,
   "metadata": {
    "collapsed": false
   },
   "outputs": [],
   "source": [
    "scopusCiteRegex = re.compile(r\"[\\w\\- ]+, [\\w\\.\\-]+\\.\")"
   ]
  },
  {
   "cell_type": "code",
   "execution_count": 13,
   "metadata": {
    "collapsed": false
   },
   "outputs": [
    {
     "ename": "NameError",
     "evalue": "name 'c2' is not defined",
     "output_type": "error",
     "traceback": [
      "\u001b[0;31m---------------------------------------------------------------------------\u001b[0m",
      "\u001b[0;31mNameError\u001b[0m                                 Traceback (most recent call last)",
      "\u001b[0;32m<ipython-input-13-9b39fa0bc50e>\u001b[0m in \u001b[0;36m<module>\u001b[0;34m()\u001b[0m\n\u001b[0;32m----> 1\u001b[0;31m \u001b[0mr\u001b[0m \u001b[0;34m=\u001b[0m \u001b[0mscopusCiteRegex\u001b[0m\u001b[0;34m.\u001b[0m\u001b[0mmatch\u001b[0m\u001b[0;34m(\u001b[0m\u001b[0mc2\u001b[0m\u001b[0;34m.\u001b[0m\u001b[0moriginal\u001b[0m\u001b[0;34m)\u001b[0m\u001b[0;34m\u001b[0m\u001b[0m\n\u001b[0m\u001b[1;32m      2\u001b[0m \u001b[0mprint\u001b[0m\u001b[0;34m(\u001b[0m\u001b[0mr\u001b[0m\u001b[0;34m)\u001b[0m\u001b[0;34m\u001b[0m\u001b[0m\n",
      "\u001b[0;31mNameError\u001b[0m: name 'c2' is not defined"
     ]
    }
   ],
   "source": [
    "r = scopusCiteRegex.match(c2.original)\n",
    "print(r)"
   ]
  },
  {
   "cell_type": "code",
   "execution_count": null,
   "metadata": {
    "collapsed": false
   },
   "outputs": [],
   "source": [
    "c2.original"
   ]
  },
  {
   "cell_type": "code",
   "execution_count": null,
   "metadata": {
    "collapsed": false
   },
   "outputs": [],
   "source": [
    "c1 = Cites[0]\n",
    "c2 = list(coreCites)[0]"
   ]
  },
  {
   "cell_type": "code",
   "execution_count": null,
   "metadata": {
    "collapsed": false,
    "scrolled": true
   },
   "outputs": [],
   "source": [
    "c1.original"
   ]
  },
  {
   "cell_type": "code",
   "execution_count": null,
   "metadata": {
    "collapsed": false
   },
   "outputs": [],
   "source": [
    "c2.original"
   ]
  },
  {
   "cell_type": "code",
   "execution_count": null,
   "metadata": {
    "collapsed": false
   },
   "outputs": [],
   "source": [
    "c1.year"
   ]
  },
  {
   "cell_type": "code",
   "execution_count": null,
   "metadata": {
    "collapsed": false
   },
   "outputs": [],
   "source": [
    "c2.misc"
   ]
  },
  {
   "cell_type": "code",
   "execution_count": null,
   "metadata": {
    "collapsed": false
   },
   "outputs": [],
   "source": [
    "c2.bad"
   ]
  },
  {
   "cell_type": "code",
   "execution_count": null,
   "metadata": {
    "collapsed": false
   },
   "outputs": [],
   "source": [
    "R['Source title']"
   ]
  },
  {
   "cell_type": "code",
   "execution_count": null,
   "metadata": {
    "collapsed": false
   },
   "outputs": [],
   "source": [
    "list(R.keys())"
   ]
  },
  {
   "cell_type": "code",
   "execution_count": null,
   "metadata": {
    "collapsed": false
   },
   "outputs": [],
   "source": [
    "R.createCitation(True)"
   ]
  },
  {
   "cell_type": "code",
   "execution_count": null,
   "metadata": {
    "collapsed": false
   },
   "outputs": [],
   "source": [
    "len(set(coreCites))"
   ]
  },
  {
   "cell_type": "code",
   "execution_count": null,
   "metadata": {
    "collapsed": false
   },
   "outputs": [],
   "source": []
  },
  {
   "cell_type": "code",
   "execution_count": null,
   "metadata": {
    "collapsed": true
   },
   "outputs": [],
   "source": []
  }
 ],
 "metadata": {
  "kernelspec": {
   "display_name": "Python 3",
   "language": "python",
   "name": "python3"
  },
  "language_info": {
   "codemirror_mode": {
    "name": "ipython",
    "version": 3
   },
   "file_extension": ".py",
   "mimetype": "text/x-python",
   "name": "python",
   "nbconvert_exporter": "python",
   "pygments_lexer": "ipython3",
   "version": "3.6.0"
  }
 },
 "nbformat": 4,
 "nbformat_minor": 2
}
