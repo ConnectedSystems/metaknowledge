{
 "cells": [
  {
   "cell_type": "markdown",
   "metadata": {},
   "source": [
    "# Getting Started\n",
     "\n",
     "{% comment %}\n",
     "\n",
     "# Notes for those who downloaded the notebook\n",
     "\n",
     "The notebook should just work as long as you put the sample file (savedrecs.txt) in the same directory as this file.\n",
     "\n",
     "The one issue you will have is that the urls will not work. To make them work you will need to replace ``{{ site.baseurl }}`` with `http://networkslab.org/metaknowledge`\n",
     "\n",
     "{% endcomment %}\n",
     "\n",
     "metaknowledge is a python library for creating and analyzing scientific metadata. It uses records obtained from Web of Science (WOS) and mostly produces graphs. This will be a short overview of its capabilities, for complete coverage of the package and install institutions read full the documentation [here]({{ site.baseurl }}/documentation)."
   ]
  },
  {
   "cell_type": "markdown",
   "metadata": {},
   "source": [
    "This document was made from a [jupyter](https://jupyter.org) notebook you can download the notebook [here]({{ site.baseurl }}/examples/metaknowledgeExamples.ipynb) and the sample file is [here]({{ site.baseurl }}/examples/savedrecs.txt) if you wish to see an interactive version of these examples."
   ]
  },
  {
   "cell_type": "markdown",
   "metadata": {},
   "source": [
    "First you need to import the metaknowledge package:\n",
     ""
   ]
  },
  {
   "cell_type": "code",
   "execution_count": null,
   "metadata": {
     "collapsed": false
   },
   "outputs": [],
   "source": [
    "import metaknowledge as mk"
   ]
  },
  {
   "cell_type": "markdown",
   "metadata": {},
   "source": [
    "You will often need the networkx package as well:\n",
     ""
   ]
  },
  {
   "cell_type": "code",
   "execution_count": null,
   "metadata": {
     "collapsed": false
   },
   "outputs": [],
   "source": [
    "import networkx as nx"
   ]
  },
  {
   "cell_type": "markdown",
   "metadata": {},
   "source": [
    "I am importing these next couple things so the graphs will look nice:\n",
     ""
   ]
  },
  {
   "cell_type": "code",
   "execution_count": null,
   "metadata": {
     "collapsed": false
   },
   "outputs": [],
   "source": [
    "import matplotlib.pyplot as plt\n",
     "%matplotlib inline"
   ]
  },
  {
   "cell_type": "markdown",
   "metadata": {},
   "source": [
    "# [Reading Files]({{ site.baseurl }}/docs/RecordCollection#RecordCollection)\n",
     "\n",
     "The files from the Web of Science (WOS) can be loaded into [RecordCollections]({{ site.baseurl }}/docs/RecordCollection#RecordCollection) by creating a RecordCollection object with the path to the files given to the initializer as a string.\n",
     ""
   ]
  },
  {
   "cell_type": "code",
   "execution_count": null,
   "metadata": {
     "collapsed": false
   },
   "outputs": [],
   "source": [
    "RC = mk.RecordCollection(\"savedrecs.txt\")\n",
     "print(repr(RC))"
   ]
  },
  {
   "cell_type": "markdown",
   "metadata": {},
   "source": [
    "You can also read a whole directory\n",
     ""
   ]
  },
  {
   "cell_type": "code",
   "execution_count": null,
   "metadata": {
     "collapsed": false
   },
   "outputs": [],
   "source": [
    "RC = mk.RecordCollection(\".\")\n",
     "print(repr(RC))"
   ]
  },
  {
   "cell_type": "markdown",
   "metadata": {},
   "source": [
    "metaknowledge can detect if a file is a valid WOS file or not and will read the entire directory and load only those that have the right header. You can also tell it to only read a certain type of file, by using the extension argument.\n",
     ""
   ]
  },
  {
   "cell_type": "code",
   "execution_count": null,
   "metadata": {
     "collapsed": false
   },
   "outputs": [],
   "source": [
    "RC = mk.RecordCollection(\".\", extension = \"txt\")\n",
     "print(repr(RC))"
   ]
  },
  {
   "cell_type": "markdown",
   "metadata": {},
   "source": [
    "Now you have a RecordCollection object composed of all the WOS records in the selected file(s).\n",
     "\n",
     "# [The RecordCollections object]({{ site.baseurl }}/docs/RecordCollection#RecordCollection)"
   ]
  } ],
 "metadata": {
   "kernelspec": {
   "display_name": "Python 3",
   "language": "python",
   "name": "python3"
  },
  "language_info": {
   "codemirror_mode": {
    "name": "ipython",
    "version": 3
 },
   "file_extension": ".py",
   "mimetype": "text/x-python",
   "name": "python",
   "nbconvert_exporter": "python",
   "pygments_lexer": "ipython3",
   "version": "3.4.3"
  }
 },
 "nbformat": 4,
 "nbformat_minor": 0
}